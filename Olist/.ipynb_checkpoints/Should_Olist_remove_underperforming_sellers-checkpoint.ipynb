{
 "cells": [
  {
   "cell_type": "markdown",
   "metadata": {},
   "source": [
    "# Should Olist remove underperforming sellers from its marketplace?"
   ]
  },
  {
   "cell_type": "markdown",
   "metadata": {},
   "source": [
    "To analyse the impact of removing the worse sellers from the marketplace, we can start with a what-if analysis: What would have happened if Olist had never accepted these sellers in the past ? \n",
    "\n",
    "Our strategy:\n",
    "- We compute  `cost_of_reviews`,`months_on_olist`, `revenues`, `profits` per seller in `seller.py` .\n",
    "- Sort DataFrame per `profits`\n",
    "- Remove worse performing seller one by one, and for each scenario:\n",
    "    - compute `n_orders` and therefore `olist_it_costs` (prop to square root of n_orders)\n",
    "    - compute Olist's total `net_profits` and `margin`\n",
    "- Find the optimal number of seller to remove from platform so as to maximize `profit` or `margin`"
   ]
  },
  {
   "cell_type": "markdown",
   "metadata": {},
   "source": [
    "### Step ① : `seller.py`"
   ]
  },
  {
   "cell_type": "code",
   "execution_count": 3,
   "metadata": {
    "scrolled": true
   },
   "outputs": [],
   "source": [
    "import numpy as np\n",
    "import pandas as pd\n",
    "import matplotlib.pyplot as plt\n",
    "import seaborn as sns\n",
    "\n",
    "%load_ext autoreload\n",
    "%autoreload 2"
   ]
  },
  {
   "cell_type": "code",
   "execution_count": 4,
   "metadata": {
    "scrolled": true
   },
   "outputs": [],
   "source": [
    "from olist.seller import Seller\n",
    "seller = Seller()"
   ]
  },
  {
   "cell_type": "code",
   "execution_count": 5,
   "metadata": {},
   "outputs": [
    {
     "data": {
      "text/html": [
       "<div>\n",
       "<style scoped>\n",
       "    .dataframe tbody tr th:only-of-type {\n",
       "        vertical-align: middle;\n",
       "    }\n",
       "\n",
       "    .dataframe tbody tr th {\n",
       "        vertical-align: top;\n",
       "    }\n",
       "\n",
       "    .dataframe thead th {\n",
       "        text-align: right;\n",
       "    }\n",
       "</style>\n",
       "<table border=\"1\" class=\"dataframe\">\n",
       "  <thead>\n",
       "    <tr style=\"text-align: right;\">\n",
       "      <th></th>\n",
       "      <th>seller_id</th>\n",
       "      <th>seller_city</th>\n",
       "      <th>seller_state</th>\n",
       "      <th>delay_to_carrier</th>\n",
       "      <th>wait_time</th>\n",
       "      <th>date_first_sale</th>\n",
       "      <th>date_last_sale</th>\n",
       "      <th>months_on_olist</th>\n",
       "      <th>share_one_stars</th>\n",
       "      <th>share_of_five_stars</th>\n",
       "      <th>review_score</th>\n",
       "      <th>cost_of_reviews</th>\n",
       "      <th>n_orders</th>\n",
       "      <th>quantity</th>\n",
       "      <th>quantity_per_order</th>\n",
       "      <th>sales</th>\n",
       "      <th>revenues</th>\n",
       "      <th>profits</th>\n",
       "    </tr>\n",
       "  </thead>\n",
       "  <tbody>\n",
       "    <tr>\n",
       "      <th>0</th>\n",
       "      <td>3442f8959a84dea7ee197c632cb2df15</td>\n",
       "      <td>campinas</td>\n",
       "      <td>SP</td>\n",
       "      <td>0.000000</td>\n",
       "      <td>13.018588</td>\n",
       "      <td>2017-05-05 16:25:11</td>\n",
       "      <td>2017-08-30 12:50:19</td>\n",
       "      <td>4.0</td>\n",
       "      <td>0.333333</td>\n",
       "      <td>0.333333</td>\n",
       "      <td>3.00</td>\n",
       "      <td>140</td>\n",
       "      <td>3</td>\n",
       "      <td>3</td>\n",
       "      <td>1.000000</td>\n",
       "      <td>218.70</td>\n",
       "      <td>341.870</td>\n",
       "      <td>201.870</td>\n",
       "    </tr>\n",
       "    <tr>\n",
       "      <th>1</th>\n",
       "      <td>d1b65fc7debc3361ea86b5f14c68d2e2</td>\n",
       "      <td>mogi guacu</td>\n",
       "      <td>SP</td>\n",
       "      <td>0.000000</td>\n",
       "      <td>9.065716</td>\n",
       "      <td>2017-03-29 02:10:34</td>\n",
       "      <td>2018-06-06 20:15:21</td>\n",
       "      <td>14.0</td>\n",
       "      <td>0.050000</td>\n",
       "      <td>0.725000</td>\n",
       "      <td>4.55</td>\n",
       "      <td>240</td>\n",
       "      <td>40</td>\n",
       "      <td>41</td>\n",
       "      <td>1.025000</td>\n",
       "      <td>11703.07</td>\n",
       "      <td>2290.307</td>\n",
       "      <td>2050.307</td>\n",
       "    </tr>\n",
       "    <tr>\n",
       "      <th>2</th>\n",
       "      <td>ce3ad9de960102d0677a81f5d0bb7b2d</td>\n",
       "      <td>rio de janeiro</td>\n",
       "      <td>RJ</td>\n",
       "      <td>0.000000</td>\n",
       "      <td>4.042292</td>\n",
       "      <td>2018-07-30 12:44:49</td>\n",
       "      <td>2018-07-30 12:44:49</td>\n",
       "      <td>0.0</td>\n",
       "      <td>0.000000</td>\n",
       "      <td>1.000000</td>\n",
       "      <td>5.00</td>\n",
       "      <td>0</td>\n",
       "      <td>1</td>\n",
       "      <td>1</td>\n",
       "      <td>1.000000</td>\n",
       "      <td>158.00</td>\n",
       "      <td>15.800</td>\n",
       "      <td>15.800</td>\n",
       "    </tr>\n",
       "    <tr>\n",
       "      <th>3</th>\n",
       "      <td>c0f3eea2e14555b6faeea3dd58c1b1c3</td>\n",
       "      <td>sao paulo</td>\n",
       "      <td>SP</td>\n",
       "      <td>0.000000</td>\n",
       "      <td>5.667187</td>\n",
       "      <td>2018-08-03 00:44:08</td>\n",
       "      <td>2018-08-03 00:44:08</td>\n",
       "      <td>0.0</td>\n",
       "      <td>0.000000</td>\n",
       "      <td>1.000000</td>\n",
       "      <td>5.00</td>\n",
       "      <td>0</td>\n",
       "      <td>1</td>\n",
       "      <td>1</td>\n",
       "      <td>1.000000</td>\n",
       "      <td>79.99</td>\n",
       "      <td>7.999</td>\n",
       "      <td>7.999</td>\n",
       "    </tr>\n",
       "    <tr>\n",
       "      <th>4</th>\n",
       "      <td>51a04a8a6bdcb23deccc82b0b80742cf</td>\n",
       "      <td>braganca paulista</td>\n",
       "      <td>SP</td>\n",
       "      <td>3.353727</td>\n",
       "      <td>35.314861</td>\n",
       "      <td>2017-11-14 12:15:25</td>\n",
       "      <td>2017-11-14 12:15:25</td>\n",
       "      <td>0.0</td>\n",
       "      <td>1.000000</td>\n",
       "      <td>0.000000</td>\n",
       "      <td>1.00</td>\n",
       "      <td>100</td>\n",
       "      <td>1</td>\n",
       "      <td>1</td>\n",
       "      <td>1.000000</td>\n",
       "      <td>167.99</td>\n",
       "      <td>16.799</td>\n",
       "      <td>-83.201</td>\n",
       "    </tr>\n",
       "    <tr>\n",
       "      <th>...</th>\n",
       "      <td>...</td>\n",
       "      <td>...</td>\n",
       "      <td>...</td>\n",
       "      <td>...</td>\n",
       "      <td>...</td>\n",
       "      <td>...</td>\n",
       "      <td>...</td>\n",
       "      <td>...</td>\n",
       "      <td>...</td>\n",
       "      <td>...</td>\n",
       "      <td>...</td>\n",
       "      <td>...</td>\n",
       "      <td>...</td>\n",
       "      <td>...</td>\n",
       "      <td>...</td>\n",
       "      <td>...</td>\n",
       "      <td>...</td>\n",
       "      <td>...</td>\n",
       "    </tr>\n",
       "    <tr>\n",
       "      <th>2965</th>\n",
       "      <td>98dddbc4601dd4443ca174359b237166</td>\n",
       "      <td>sarandi</td>\n",
       "      <td>PR</td>\n",
       "      <td>0.000000</td>\n",
       "      <td>8.230822</td>\n",
       "      <td>2018-07-14 03:10:19</td>\n",
       "      <td>2018-07-23 15:34:03</td>\n",
       "      <td>0.0</td>\n",
       "      <td>0.000000</td>\n",
       "      <td>1.000000</td>\n",
       "      <td>5.00</td>\n",
       "      <td>0</td>\n",
       "      <td>2</td>\n",
       "      <td>2</td>\n",
       "      <td>1.000000</td>\n",
       "      <td>158.00</td>\n",
       "      <td>15.800</td>\n",
       "      <td>15.800</td>\n",
       "    </tr>\n",
       "    <tr>\n",
       "      <th>2966</th>\n",
       "      <td>f8201cab383e484733266d1906e2fdfa</td>\n",
       "      <td>palhoca</td>\n",
       "      <td>SC</td>\n",
       "      <td>0.000000</td>\n",
       "      <td>13.045797</td>\n",
       "      <td>2017-06-17 15:30:11</td>\n",
       "      <td>2018-08-11 19:55:17</td>\n",
       "      <td>14.0</td>\n",
       "      <td>0.100000</td>\n",
       "      <td>0.500000</td>\n",
       "      <td>4.10</td>\n",
       "      <td>140</td>\n",
       "      <td>10</td>\n",
       "      <td>10</td>\n",
       "      <td>1.000000</td>\n",
       "      <td>889.00</td>\n",
       "      <td>1208.900</td>\n",
       "      <td>1068.900</td>\n",
       "    </tr>\n",
       "    <tr>\n",
       "      <th>2967</th>\n",
       "      <td>74871d19219c7d518d0090283e03c137</td>\n",
       "      <td>sao paulo</td>\n",
       "      <td>SP</td>\n",
       "      <td>0.000000</td>\n",
       "      <td>3.606625</td>\n",
       "      <td>2018-04-05 17:09:46</td>\n",
       "      <td>2018-08-21 19:25:15</td>\n",
       "      <td>5.0</td>\n",
       "      <td>0.000000</td>\n",
       "      <td>1.000000</td>\n",
       "      <td>5.00</td>\n",
       "      <td>0</td>\n",
       "      <td>6</td>\n",
       "      <td>7</td>\n",
       "      <td>1.166667</td>\n",
       "      <td>550.04</td>\n",
       "      <td>455.004</td>\n",
       "      <td>455.004</td>\n",
       "    </tr>\n",
       "    <tr>\n",
       "      <th>2968</th>\n",
       "      <td>e603cf3fec55f8697c9059638d6c8eb5</td>\n",
       "      <td>pelotas</td>\n",
       "      <td>RS</td>\n",
       "      <td>0.000000</td>\n",
       "      <td>6.657634</td>\n",
       "      <td>2017-02-09 02:43:17</td>\n",
       "      <td>2017-06-16 17:30:16</td>\n",
       "      <td>4.0</td>\n",
       "      <td>0.000000</td>\n",
       "      <td>0.500000</td>\n",
       "      <td>4.25</td>\n",
       "      <td>50</td>\n",
       "      <td>8</td>\n",
       "      <td>11</td>\n",
       "      <td>1.375000</td>\n",
       "      <td>297.00</td>\n",
       "      <td>349.700</td>\n",
       "      <td>299.700</td>\n",
       "    </tr>\n",
       "    <tr>\n",
       "      <th>2969</th>\n",
       "      <td>9e25199f6ef7e7c347120ff175652c3b</td>\n",
       "      <td>taubate</td>\n",
       "      <td>SP</td>\n",
       "      <td>0.000000</td>\n",
       "      <td>8.199456</td>\n",
       "      <td>2017-03-27 10:10:27</td>\n",
       "      <td>2017-03-27 10:10:27</td>\n",
       "      <td>0.0</td>\n",
       "      <td>0.000000</td>\n",
       "      <td>0.000000</td>\n",
       "      <td>4.00</td>\n",
       "      <td>0</td>\n",
       "      <td>1</td>\n",
       "      <td>1</td>\n",
       "      <td>1.000000</td>\n",
       "      <td>12.50</td>\n",
       "      <td>1.250</td>\n",
       "      <td>1.250</td>\n",
       "    </tr>\n",
       "  </tbody>\n",
       "</table>\n",
       "<p>2970 rows × 18 columns</p>\n",
       "</div>"
      ],
      "text/plain": [
       "                             seller_id        seller_city seller_state  \\\n",
       "0     3442f8959a84dea7ee197c632cb2df15           campinas           SP   \n",
       "1     d1b65fc7debc3361ea86b5f14c68d2e2         mogi guacu           SP   \n",
       "2     ce3ad9de960102d0677a81f5d0bb7b2d     rio de janeiro           RJ   \n",
       "3     c0f3eea2e14555b6faeea3dd58c1b1c3          sao paulo           SP   \n",
       "4     51a04a8a6bdcb23deccc82b0b80742cf  braganca paulista           SP   \n",
       "...                                ...                ...          ...   \n",
       "2965  98dddbc4601dd4443ca174359b237166            sarandi           PR   \n",
       "2966  f8201cab383e484733266d1906e2fdfa            palhoca           SC   \n",
       "2967  74871d19219c7d518d0090283e03c137          sao paulo           SP   \n",
       "2968  e603cf3fec55f8697c9059638d6c8eb5            pelotas           RS   \n",
       "2969  9e25199f6ef7e7c347120ff175652c3b            taubate           SP   \n",
       "\n",
       "      delay_to_carrier  wait_time     date_first_sale      date_last_sale  \\\n",
       "0             0.000000  13.018588 2017-05-05 16:25:11 2017-08-30 12:50:19   \n",
       "1             0.000000   9.065716 2017-03-29 02:10:34 2018-06-06 20:15:21   \n",
       "2             0.000000   4.042292 2018-07-30 12:44:49 2018-07-30 12:44:49   \n",
       "3             0.000000   5.667187 2018-08-03 00:44:08 2018-08-03 00:44:08   \n",
       "4             3.353727  35.314861 2017-11-14 12:15:25 2017-11-14 12:15:25   \n",
       "...                ...        ...                 ...                 ...   \n",
       "2965          0.000000   8.230822 2018-07-14 03:10:19 2018-07-23 15:34:03   \n",
       "2966          0.000000  13.045797 2017-06-17 15:30:11 2018-08-11 19:55:17   \n",
       "2967          0.000000   3.606625 2018-04-05 17:09:46 2018-08-21 19:25:15   \n",
       "2968          0.000000   6.657634 2017-02-09 02:43:17 2017-06-16 17:30:16   \n",
       "2969          0.000000   8.199456 2017-03-27 10:10:27 2017-03-27 10:10:27   \n",
       "\n",
       "      months_on_olist  share_one_stars  share_of_five_stars  review_score  \\\n",
       "0                 4.0         0.333333             0.333333          3.00   \n",
       "1                14.0         0.050000             0.725000          4.55   \n",
       "2                 0.0         0.000000             1.000000          5.00   \n",
       "3                 0.0         0.000000             1.000000          5.00   \n",
       "4                 0.0         1.000000             0.000000          1.00   \n",
       "...               ...              ...                  ...           ...   \n",
       "2965              0.0         0.000000             1.000000          5.00   \n",
       "2966             14.0         0.100000             0.500000          4.10   \n",
       "2967              5.0         0.000000             1.000000          5.00   \n",
       "2968              4.0         0.000000             0.500000          4.25   \n",
       "2969              0.0         0.000000             0.000000          4.00   \n",
       "\n",
       "      cost_of_reviews  n_orders  quantity  quantity_per_order     sales  \\\n",
       "0                 140         3         3            1.000000    218.70   \n",
       "1                 240        40        41            1.025000  11703.07   \n",
       "2                   0         1         1            1.000000    158.00   \n",
       "3                   0         1         1            1.000000     79.99   \n",
       "4                 100         1         1            1.000000    167.99   \n",
       "...               ...       ...       ...                 ...       ...   \n",
       "2965                0         2         2            1.000000    158.00   \n",
       "2966              140        10        10            1.000000    889.00   \n",
       "2967                0         6         7            1.166667    550.04   \n",
       "2968               50         8        11            1.375000    297.00   \n",
       "2969                0         1         1            1.000000     12.50   \n",
       "\n",
       "      revenues   profits  \n",
       "0      341.870   201.870  \n",
       "1     2290.307  2050.307  \n",
       "2       15.800    15.800  \n",
       "3        7.999     7.999  \n",
       "4       16.799   -83.201  \n",
       "...        ...       ...  \n",
       "2965    15.800    15.800  \n",
       "2966  1208.900  1068.900  \n",
       "2967   455.004   455.004  \n",
       "2968   349.700   299.700  \n",
       "2969     1.250     1.250  \n",
       "\n",
       "[2970 rows x 18 columns]"
      ]
     },
     "execution_count": 5,
     "metadata": {},
     "output_type": "execute_result"
    }
   ],
   "source": [
    "sellers = seller.get_training_data()\n",
    "sellers"
   ]
  },
  {
   "cell_type": "markdown",
   "metadata": {},
   "source": [
    "### Step ② : What-if analysis"
   ]
  },
  {
   "cell_type": "markdown",
   "metadata": {},
   "source": [
    "#### The big picture (Olist total P&L since inception)"
   ]
  },
  {
   "cell_type": "markdown",
   "metadata": {},
   "source": [
    "_Revenues_"
   ]
  },
  {
   "cell_type": "code",
   "execution_count": 6,
   "metadata": {},
   "outputs": [
    {
     "data": {
      "text/plain": [
       "2786495.223999999"
      ]
     },
     "execution_count": 6,
     "metadata": {},
     "output_type": "execute_result"
    }
   ],
   "source": [
    "olist_revenues = sellers.revenues.sum()\n",
    "olist_revenues"
   ]
  },
  {
   "cell_type": "code",
   "execution_count": 7,
   "metadata": {},
   "outputs": [
    {
     "data": {
      "text/plain": [
       "1430240.0"
      ]
     },
     "execution_count": 7,
     "metadata": {},
     "output_type": "execute_result"
    }
   ],
   "source": [
    "sellers.months_on_olist.sum()*80"
   ]
  },
  {
   "cell_type": "code",
   "execution_count": 8,
   "metadata": {},
   "outputs": [
    {
     "data": {
      "text/plain": [
       "1356255.223999999"
      ]
     },
     "execution_count": 8,
     "metadata": {},
     "output_type": "execute_result"
    }
   ],
   "source": [
    "sellers.sales.sum()*0.1"
   ]
  },
  {
   "cell_type": "markdown",
   "metadata": {},
   "source": [
    "_Costs_"
   ]
  },
  {
   "cell_type": "code",
   "execution_count": 9,
   "metadata": {},
   "outputs": [
    {
     "data": {
      "text/plain": [
       "1669530"
      ]
     },
     "execution_count": 9,
     "metadata": {},
     "output_type": "execute_result"
    }
   ],
   "source": [
    "sellers.cost_of_reviews.sum()"
   ]
  },
  {
   "cell_type": "code",
   "execution_count": 10,
   "metadata": {},
   "outputs": [],
   "source": [
    "olist_it_costs_all_orders = 500000"
   ]
  },
  {
   "cell_type": "markdown",
   "metadata": {},
   "source": [
    "_Profits_"
   ]
  },
  {
   "cell_type": "code",
   "execution_count": 11,
   "metadata": {},
   "outputs": [
    {
     "data": {
      "text/plain": [
       "1116965.223999999"
      ]
     },
     "execution_count": 11,
     "metadata": {},
     "output_type": "execute_result"
    }
   ],
   "source": [
    "# before IT costs\n",
    "olist_gross_profits = sellers.profits.sum()\n",
    "olist_gross_profits"
   ]
  },
  {
   "cell_type": "code",
   "execution_count": 12,
   "metadata": {},
   "outputs": [
    {
     "data": {
      "text/plain": [
       "616965.223999999"
      ]
     },
     "execution_count": 12,
     "metadata": {},
     "output_type": "execute_result"
    }
   ],
   "source": [
    "# after IT costs\n",
    "olist_net_profits = olist_gross_profits - olist_it_costs_all_orders\n",
    "olist_net_profits"
   ]
  },
  {
   "cell_type": "markdown",
   "metadata": {},
   "source": [
    "#### Seller cutoff analysis"
   ]
  },
  {
   "cell_type": "code",
   "execution_count": 13,
   "metadata": {},
   "outputs": [
    {
     "data": {
      "text/plain": [
       "<AxesSubplot:xlabel='profits', ylabel='Count'>"
      ]
     },
     "execution_count": 13,
     "metadata": {},
     "output_type": "execute_result"
    },
    {
     "data": {
      "image/png": "[encoded data removed]",
      "text/plain": [
       "<Figure size 432x288 with 1 Axes>"
      ]
     },
     "metadata": {
      "needs_background": "light"
     },
     "output_type": "display_data"
    }
   ],
   "source": [
    "sns.histplot(sellers.profits, kde=False)"
   ]
  },
  {
   "cell_type": "code",
   "execution_count": 14,
   "metadata": {
    "scrolled": false
   },
   "outputs": [
    {
     "data": {
      "text/html": [
       "<div>\n",
       "<style scoped>\n",
       "    .dataframe tbody tr th:only-of-type {\n",
       "        vertical-align: middle;\n",
       "    }\n",
       "\n",
       "    .dataframe tbody tr th {\n",
       "        vertical-align: top;\n",
       "    }\n",
       "\n",
       "    .dataframe thead th {\n",
       "        text-align: right;\n",
       "    }\n",
       "</style>\n",
       "<table border=\"1\" class=\"dataframe\">\n",
       "  <thead>\n",
       "    <tr style=\"text-align: right;\">\n",
       "      <th></th>\n",
       "      <th>index</th>\n",
       "      <th>profits</th>\n",
       "      <th>n_orders</th>\n",
       "      <th>revenues</th>\n",
       "    </tr>\n",
       "  </thead>\n",
       "  <tbody>\n",
       "    <tr>\n",
       "      <th>0</th>\n",
       "      <td>769</td>\n",
       "      <td>-22499.517</td>\n",
       "      <td>1854</td>\n",
       "      <td>13770.483</td>\n",
       "    </tr>\n",
       "    <tr>\n",
       "      <th>1</th>\n",
       "      <td>2360</td>\n",
       "      <td>-19242.708</td>\n",
       "      <td>1806</td>\n",
       "      <td>21647.292</td>\n",
       "    </tr>\n",
       "    <tr>\n",
       "      <th>2</th>\n",
       "      <td>1358</td>\n",
       "      <td>-18051.158</td>\n",
       "      <td>1706</td>\n",
       "      <td>11948.842</td>\n",
       "    </tr>\n",
       "    <tr>\n",
       "      <th>3</th>\n",
       "      <td>946</td>\n",
       "      <td>-16032.248</td>\n",
       "      <td>1146</td>\n",
       "      <td>4677.752</td>\n",
       "    </tr>\n",
       "    <tr>\n",
       "      <th>4</th>\n",
       "      <td>315</td>\n",
       "      <td>-13066.431</td>\n",
       "      <td>943</td>\n",
       "      <td>2553.569</td>\n",
       "    </tr>\n",
       "  </tbody>\n",
       "</table>\n",
       "</div>"
      ],
      "text/plain": [
       "   index    profits  n_orders   revenues\n",
       "0    769 -22499.517      1854  13770.483\n",
       "1   2360 -19242.708      1806  21647.292\n",
       "2   1358 -18051.158      1706  11948.842\n",
       "3    946 -16032.248      1146   4677.752\n",
       "4    315 -13066.431       943   2553.569"
      ]
     },
     "execution_count": 14,
     "metadata": {},
     "output_type": "execute_result"
    }
   ],
   "source": [
    "sorted_sellers = sellers.sort_values(by='profits')[['profits', 'n_orders', 'revenues']].reset_index()\n",
    "sorted_sellers.head()"
   ]
  },
  {
   "cell_type": "code",
   "execution_count": 15,
   "metadata": {
    "scrolled": false
   },
   "outputs": [
    {
     "data": {
      "text/plain": [
       "<AxesSubplot:>"
      ]
     },
     "execution_count": 15,
     "metadata": {},
     "output_type": "execute_result"
    },
    {
     "data": {
      "image/png": "[encoded data removed]",
      "text/plain": [
       "<Figure size 432x288 with 1 Axes>"
      ]
     },
     "metadata": {
      "needs_background": "light"
     },
     "output_type": "display_data"
    }
   ],
   "source": [
    "sorted_sellers.profits.plot()"
   ]
  },
  {
   "cell_type": "markdown",
   "metadata": {},
   "source": [
    "#### Compute Olist's net_profits for various seller cut-offs"
   ]
  },
  {
   "cell_type": "code",
   "execution_count": 16,
   "metadata": {},
   "outputs": [],
   "source": [
    "# Let's create arrays \"xxx_per_seller_removed\" which list,\n",
    "# for each number of seller removed (from 1 to len(seller)), \n",
    "# the value xxx computed in this hypothetic scenario"
   ]
  },
  {
   "cell_type": "code",
   "execution_count": 17,
   "metadata": {},
   "outputs": [
    {
     "data": {
      "text/plain": [
       "Text(0.5, 0, 'number of seller to remove')"
      ]
     },
     "execution_count": 17,
     "metadata": {},
     "output_type": "execute_result"
    },
    {
     "data": {
      "image/png": "[encoded data removed]",
      "text/plain": [
       "<Figure size 432x288 with 1 Axes>"
      ]
     },
     "metadata": {
      "needs_background": "light"
     },
     "output_type": "display_data"
    }
   ],
   "source": [
    "# Analysis excluding IT costs\n",
    "revenues_per_seller_removed = olist_revenues - np.cumsum(sorted_sellers.revenues)\n",
    "gross_profits_per_seller_removed = olist_gross_profits - np.cumsum(sorted_sellers.profits)\n",
    "\n",
    "gross_profits_per_seller_removed.plot()\n",
    "plt.title('Olist gross profit before IT costs')\n",
    "plt.xlabel('number of seller to remove')"
   ]
  },
  {
   "cell_type": "code",
   "execution_count": 18,
   "metadata": {},
   "outputs": [
    {
     "data": {
      "text/plain": [
       "1582.3735631973473"
      ]
     },
     "execution_count": 18,
     "metadata": {},
     "output_type": "execute_result"
    }
   ],
   "source": [
    "# Add the IT costs of Olist's platform\n",
    "# IT costs =  A * (n_orders)**0.5\n",
    "\n",
    "# First, compute A\n",
    "A = olist_it_costs_all_orders / (sellers['n_orders'].sum()**0.5)\n",
    "A"
   ]
  },
  {
   "cell_type": "code",
   "execution_count": 19,
   "metadata": {},
   "outputs": [
    {
     "data": {
      "image/png": "[encoded data removed]",
      "text/plain": [
       "<Figure size 432x288 with 1 Axes>"
      ]
     },
     "metadata": {
      "needs_background": "light"
     },
     "output_type": "display_data"
    }
   ],
   "source": [
    "# Then, compute n_order per scenario\n",
    "n_orders_per_seller_removed = sorted_sellers.n_orders.sum() - np.cumsum(sorted_sellers.n_orders)\n",
    "plt.plot(n_orders_per_seller_removed)\n",
    "plt.title('Total number of orders'); plt.xlabel('number of seller to remove');"
   ]
  },
  {
   "cell_type": "code",
   "execution_count": 20,
   "metadata": {},
   "outputs": [
    {
     "data": {
      "image/png": "[encoded data removed]",
      "text/plain": [
       "<Figure size 432x288 with 1 Axes>"
      ]
     },
     "metadata": {
      "needs_background": "light"
     },
     "output_type": "display_data"
    }
   ],
   "source": [
    "# Create array of it_costs per scenario\n",
    "it_costs_per_seller_removed = A * n_orders_per_seller_removed**0.5\n",
    "plt.plot(it_costs_per_seller_removed)\n",
    "plt.title('IT costs'); plt.xlabel('number of seller to remove');"
   ]
  },
  {
   "cell_type": "code",
   "execution_count": 21,
   "metadata": {},
   "outputs": [],
   "source": [
    "# Compute final metrics (profits and margin, for each 2970 scenarios!)\n",
    "profits_per_seller_removed = gross_profits_per_seller_removed - it_costs_per_seller_removed\n",
    "margin_per_seller_removed = profits_per_seller_removed / revenues_per_seller_removed"
   ]
  },
  {
   "cell_type": "code",
   "execution_count": 22,
   "metadata": {},
   "outputs": [
    {
     "data": {
      "image/png": "[encoded data removed]",
      "text/plain": [
       "<Figure size 720x360 with 2 Axes>"
      ]
     },
     "metadata": {
      "needs_background": "light"
     },
     "output_type": "display_data"
    }
   ],
   "source": [
    "fig, ax1 = plt.subplots(figsize=(10,5))\n",
    "x = np.arange(0, len(sellers), 1)\n",
    "\n",
    "plt.suptitle(\"Estimated impact of having excluding selected sellers from Olist, over the past 16 months\")\n",
    "\n",
    "ax1.set_xlabel('number of seller to remove from olist - from worse to most profitable')\n",
    "ax1.set_ylabel('BRL')\n",
    "ax1.plot(x, profits_per_seller_removed, color='black', label='Olist net profits')\n",
    "ax1.plot(x, revenues_per_seller_removed, color='grey', label='Olist total revenues')\n",
    "ax1.legend()\n",
    "ax1.tick_params(axis='y')\n",
    "ax1.legend()\n",
    "ax1.set(ylim=[0,3000000])\n",
    "\n",
    "\n",
    "ax3 = ax1.twinx()  # instantiate a second axes that shares the same x-axis\n",
    "\n",
    "color = 'tab:red'\n",
    "ax3.set_ylabel('%', color=color)  # we already handled the x-label with ax1\n",
    "ax3.plot(x, margin_per_seller_removed, color='red', label='Olist profit margin')\n",
    "ax3.tick_params(axis='y', labelcolor=color)\n",
    "ax3.legend(loc='right')\n",
    "ax3.set(ylim=[0,1])\n",
    "\n",
    "fig.tight_layout()  # otherwise the right y-label is slightly clipped\n",
    "plt.show()"
   ]
  },
  {
   "cell_type": "markdown",
   "metadata": {},
   "source": [
    "☝️We can clearly see a trade-off with a maximim net_profit at around 500 sellers to remove, and a maximum margin at about 2000 sellers removed. Beyond, margin collapses due to IT costs."
   ]
  },
  {
   "cell_type": "markdown",
   "metadata": {},
   "source": [
    "🔎 Going further, we should improve this analysis by taking into account the dynamics: Olist does not know in advance a sellers's performance. Sellers should only be removed from the platform after it has been having bad reviews for a given period."
   ]
  },
  {
   "cell_type": "code",
   "execution_count": null,
   "metadata": {},
   "outputs": [],
   "source": []
  }
 ],
 "metadata": {
  "kernelspec": {
   "display_name": "Python 3",
   "language": "python",
   "name": "python3"
  },
  "language_info": {
   "codemirror_mode": {
    "name": "ipython",
    "version": 3
   },
   "file_extension": ".py",
   "mimetype": "text/x-python",
   "name": "python",
   "nbconvert_exporter": "python",
   "pygments_lexer": "ipython3",
   "version": "3.7.7"
  },
  "toc": {
   "base_numbering": 1,
   "nav_menu": {},
   "number_sections": true,
   "sideBar": true,
   "skip_h1_title": true,
   "title_cell": "Table of Contents",
   "title_sidebar": "Contents",
   "toc_cell": false,
   "toc_position": {},
   "toc_section_display": true,
   "toc_window_display": true
  },
  "varInspector": {
   "cols": {
    "lenName": 16,
    "lenType": 16,
    "lenVar": 40
   },
   "kernels_config": {
    "python": {
     "delete_cmd_postfix": "",
     "delete_cmd_prefix": "del ",
     "library": "var_list.py",
     "varRefreshCmd": "print(var_dic_list())"
    },
    "r": {
     "delete_cmd_postfix": ") ",
     "delete_cmd_prefix": "rm(",
     "library": "var_list.r",
     "varRefreshCmd": "cat(var_dic_list()) "
    }
   },
   "types_to_exclude": [
    "module",
    "function",
    "builtin_function_or_method",
    "instance",
    "_Feature"
   ],
   "window_display": false
  }
 },
 "nbformat": 4,
 "nbformat_minor": 4
}
